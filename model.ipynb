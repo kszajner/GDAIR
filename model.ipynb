{
 "cells": [
  {
   "cell_type": "markdown",
   "id": "c42869ab",
   "metadata": {},
   "source": [
    "# Random Forest Model\n",
    "Code in this file goes over whole process of creating Random Forest model"
   ]
  },
  {
   "cell_type": "markdown",
   "id": "80738c82",
   "metadata": {},
   "source": [
    "## Importing packages"
   ]
  },
  {
   "cell_type": "code",
   "execution_count": 17,
   "id": "16ee0555",
   "metadata": {},
   "outputs": [],
   "source": [
    "from sklearn.ensemble import RandomForestClassifier\n",
    "from sklearn.metrics import classification_report, accuracy_score\n",
    "from sklearn.model_selection import train_test_split, RandomizedSearchCV\n",
    "from scipy.stats import randint\n",
    "from sklearn.utils import resample\n",
    "import pandas as pd\n",
    "import joblib"
   ]
  },
  {
   "cell_type": "markdown",
   "id": "12c6a914",
   "metadata": {},
   "source": [
    "## Data Load"
   ]
  },
  {
   "cell_type": "code",
   "execution_count": 3,
   "id": "022ea3e6",
   "metadata": {},
   "outputs": [],
   "source": [
    "# Loading the data\n",
    "df_no_risk = pd.read_excel(\"dataset.xlsx\", sheet_name=\"data0\")\n",
    "df_risk = pd.read_excel(\"dataset.xlsx\", sheet_name=\"data1\")"
   ]
  },
  {
   "cell_type": "markdown",
   "id": "dfb1cc77",
   "metadata": {},
   "source": [
    "## Formating"
   ]
  },
  {
   "cell_type": "code",
   "execution_count": 4,
   "id": "c62a46c2",
   "metadata": {},
   "outputs": [],
   "source": [
    "def featuring(df):\n",
    "    df[\"Month\"] = pd.Categorical(df[\"Month\"], categories=range(1, 13), ordered=True)\n",
    "    df[[\"WindSpeed\", \"Temperature\", \"Humidity\",\n",
    "        \"Pressure\", \"Precipitation\", \"PM2.5\", \"PM10\"]] = df[[\"WindSpeed\", \"Temperature\", \"Humidity\",\n",
    "        \"Pressure\", \"Precipitation\", \"PM2.5\", \"PM10\"]].astype(float)\n",
    "    df.drop([\"Unnamed: 0\"], axis=1, inplace=True)\n",
    "    return df"
   ]
  },
  {
   "cell_type": "code",
   "execution_count": 5,
   "id": "54357651",
   "metadata": {},
   "outputs": [],
   "source": [
    "def create_sequence_and_label(df, label): # Create sequences of 3 rows and assign a label\n",
    "    sequences=[] # List to store sequences\n",
    "    i = 0 # Initialize index\n",
    "    while i < len(df): # Loop through the dataframe\n",
    "        seq = df.iloc[i:i + 3].values.flatten() # Get 3 rows and flatten them into a single row\n",
    "        sequences.append(seq) \n",
    "        i = i+3 # Move to the next sequence\n",
    "    return pd.DataFrame(sequences).assign(label=label) # Assign the label\n",
    "\n",
    "df_no_risk = featuring(df_no_risk)\n",
    "df_risk = featuring(df_risk) \n",
    "\n",
    "# Create sequences for both classes\n",
    "df1 = create_sequence_and_label(df_no_risk, label=0)\n",
    "df2 = create_sequence_and_label(df_risk, label=1)\n",
    "\n",
    "original_cols = df_no_risk.columns.tolist() # Get the original column names\n",
    "\n",
    "# Rename columns for 3-day sequences\n",
    "column_names = (\n",
    "    original_cols +\n",
    "    [f\"{col}_2\" for col in original_cols] +\n",
    "    [f\"{col}_3\" for col in original_cols] +\n",
    "    [\"label\"]\n",
    ")\n",
    "df1.columns = column_names\n",
    "df2.columns = column_names"
   ]
  },
  {
   "cell_type": "code",
   "execution_count": 6,
   "id": "19d932b2",
   "metadata": {},
   "outputs": [],
   "source": [
    "def new_features(df):\n",
    "    df[\"PM10_avg\"] = df[[\"PM10\", \"PM10_2\", \"PM10_3\"]].mean(axis=1)\n",
    "    df[\"PM10_std\"] = df[[\"PM10\", \"PM10_2\", \"PM10_3\"]].std(axis=1)\n",
    "    df[\"PM10_CV\"] = df[\"PM10_std\"] / df[\"PM10_avg\"]\n",
    "    df[\"PM2.5_avg\"] = df[[\"PM2.5\", \"PM2.5_2\", \"PM2.5_3\"]].mean(axis=1)\n",
    "    df[\"PM2.5_std\"] = df[[\"PM2.5\", \"PM2.5_2\", \"PM2.5_3\"]].std(axis=1)\n",
    "    df[\"PM2.5_CV\"] = df[\"PM2.5_std\"] / df[\"PM2.5_avg\"]\n",
    "    df[\"WindSpeed_trend\"] = df[\"WindSpeed_3\"] - df[\"WindSpeed\"]\n",
    "    df[\"Humidity_diff\"] = df[\"Humidity_3\"] - df[\"Humidity\"]\n",
    "    df[\"PM2.5_trend\"] = (df[\"PM2.5_3\"] - df[\"PM2.5\"])/ df[\"PM2.5\"]\n",
    "    df[\"PM10_trend\"] = (df[\"PM10_3\"] - df[\"PM10\"])/ df[\"PM10\"]\n",
    "    df.drop(columns=[\"PM10\", \"PM10_2\", \"PM10_3\", \"PM2.5\", \"PM2.5_2\", \"PM2.5_3\", \"IsHoliday\", \"IsHoliday_2\", \"IsHoliday_3\"], inplace=True)\n",
    "    return df"
   ]
  },
  {
   "cell_type": "code",
   "execution_count": 7,
   "id": "75c666d0",
   "metadata": {},
   "outputs": [],
   "source": [
    "df1 = new_features(df1)\n",
    "df2 = new_features(df2)"
   ]
  },
  {
   "cell_type": "markdown",
   "id": "e5768801",
   "metadata": {},
   "source": [
    "## Sampling"
   ]
  },
  {
   "cell_type": "code",
   "execution_count": 8,
   "id": "a734271e",
   "metadata": {},
   "outputs": [],
   "source": [
    "# Balancing the dataset\n",
    "df2_oversampling = resample(df2, # Resampling label 1\n",
    "                            replace=True, \n",
    "                            n_samples=338, # Number of samples to generate\n",
    "                            random_state=42)  # Random state for reproducibility\n",
    "# Concatenate both datasets\n",
    "df_balanced = pd.concat([df1, df2_oversampling])\n",
    "\n",
    "# Shuffle the dataset\n",
    "df_balanced = df_balanced.sample(frac=1, random_state=42).reset_index(drop=True)\n",
    "\n",
    "# Creating X and y variables for the model\n",
    "X = df_balanced.drop('label', axis=1)\n",
    "y = df_balanced['label']\n",
    "\n",
    "# Splitting the dataset into training and testing sets\n",
    "X_train, X_test, y_train, y_test = train_test_split(X,\n",
    "                                                    y,\n",
    "                                                    test_size=0.2, # 20% for testing\n",
    "                                                    random_state=42\n",
    "                                                    ) "
   ]
  },
  {
   "cell_type": "markdown",
   "id": "90db213e",
   "metadata": {},
   "source": [
    "## Parameter tuning"
   ]
  },
  {
   "cell_type": "code",
   "execution_count": 9,
   "id": "1d0cc25c",
   "metadata": {},
   "outputs": [
    {
     "data": {
      "text/plain": [
       "'# Creating the Random Forest model with hyperparameter tuning\\nparam_dist = {\\n    \\'n_estimators\\': randint(10, 1000), # Randomly choose between 10 and 1000 trees\\n    \\'max_depth\\': [None, 10, 20, 30, 50], # Randomly choose between None and various depths\\n    \\'min_samples_split\\': [2, 5, 10], # Minimum number of samples required to split an internal node\\n    \\'min_samples_leaf\\': [1, 2, 4, 5], # Minimum number of samples required to be at a leaf node\\n    \\'max_features\\': [\\'sqrt\\', \\'log2\\', None], # Number of features to consider when looking for the best split\\n    \\'bootstrap\\': [True, False], # Whether bootstrap samples are used when building trees\\n    \\'class_weight\\': [None, \\'balanced\\', \"balanced_subsample\"] # Weights associated with classes in the form {class_label: weight}\\n}\\n\\n# RandomizedSearchCV for hyperparameter tuning\\nrf_model = RandomForestClassifier(random_state=42)\\n\\nrand_search = RandomizedSearchCV(\\n    estimator=rf_model,\\n    param_distributions=param_dist,\\n    n_iter=60,  # Number of different combinations to try\\n    cv=5, # 5-fold cross-validation\\n    verbose=1,\\n    n_jobs=-1,\\n    scoring=\\'f1\\'  # Use F1 score as the scoring metric\\n)\\n\\n# Fit the model\\nrand_search.fit(X_train, y_train)\\n\\n# Print the best parameters and score\\nprint(\"Best params:\", rand_search.best_params_)\\nprint(\"Best score:\", rand_search.best_score_)'"
      ]
     },
     "execution_count": 9,
     "metadata": {},
     "output_type": "execute_result"
    }
   ],
   "source": [
    "\"\"\"# Creating the Random Forest model with hyperparameter tuning\n",
    "param_dist = {\n",
    "    'n_estimators': randint(10, 1000), # Randomly choose between 10 and 1000 trees\n",
    "    'max_depth': [None, 10, 20, 30, 50], # Randomly choose between None and various depths\n",
    "    'min_samples_split': [2, 5, 10], # Minimum number of samples required to split an internal node\n",
    "    'min_samples_leaf': [1, 2, 4, 5], # Minimum number of samples required to be at a leaf node\n",
    "    'max_features': ['sqrt', 'log2', None], # Number of features to consider when looking for the best split\n",
    "    'bootstrap': [True, False], # Whether bootstrap samples are used when building trees\n",
    "    'class_weight': [None, 'balanced', \"balanced_subsample\"] # Weights associated with classes in the form {class_label: weight}\n",
    "}\n",
    "\n",
    "# RandomizedSearchCV for hyperparameter tuning\n",
    "rf_model = RandomForestClassifier(random_state=42)\n",
    "\n",
    "rand_search = RandomizedSearchCV(\n",
    "    estimator=rf_model,\n",
    "    param_distributions=param_dist,\n",
    "    n_iter=60,  # Number of different combinations to try\n",
    "    cv=5, # 5-fold cross-validation\n",
    "    verbose=1,\n",
    "    n_jobs=-1,\n",
    "    scoring='f1'  # Use F1 score as the scoring metric\n",
    ")\n",
    "\n",
    "# Fit the model\n",
    "rand_search.fit(X_train, y_train)\n",
    "\n",
    "# Print the best parameters and score\n",
    "print(\"Best params:\", rand_search.best_params_)\n",
    "print(\"Best score:\", rand_search.best_score_)\"\"\""
   ]
  },
  {
   "cell_type": "markdown",
   "id": "06a6fe92",
   "metadata": {},
   "source": [
    "## Model"
   ]
  },
  {
   "cell_type": "code",
   "execution_count": 10,
   "id": "c58c3f61",
   "metadata": {},
   "outputs": [
    {
     "name": "stdout",
     "output_type": "stream",
     "text": [
      "Accuracy: 0.9705882352941176\n",
      "              precision    recall  f1-score   support\n",
      "\n",
      "           0       0.99      0.96      0.97        73\n",
      "           1       0.95      0.98      0.97        63\n",
      "\n",
      "    accuracy                           0.97       136\n",
      "   macro avg       0.97      0.97      0.97       136\n",
      "weighted avg       0.97      0.97      0.97       136\n",
      "\n"
     ]
    }
   ],
   "source": [
    "# Creating the Random Forest model\n",
    "rf_model = RandomForestClassifier(n_estimators=200,\n",
    "                                  class_weight = None,\n",
    "                                  max_depth = 30,\n",
    "                                  max_features = \"log2\",\n",
    "                                  min_samples_leaf = 1,\n",
    "                                  min_samples_split = 2,\n",
    "                                  bootstrap=True,\n",
    "                                  random_state = 42) # Random state for reproducibility\n",
    "\n",
    "# Fitting the model to the training data\n",
    "rf_model.fit(X_train, y_train)\n",
    "\n",
    "# Making predictions on the test set\n",
    "y_pred = rf_model.predict(X_test)\n",
    "\n",
    "# Evaluating the model\n",
    "accuracy = accuracy_score(y_test, y_pred)\n",
    "print(f\"Accuracy: {accuracy}\")\n",
    "print(classification_report(y_test, y_pred))"
   ]
  },
  {
   "cell_type": "code",
   "execution_count": 11,
   "id": "c4a91658",
   "metadata": {},
   "outputs": [
    {
     "name": "stdout",
     "output_type": "stream",
     "text": [
      "CV Accuracy: 0.941 ± 0.028\n"
     ]
    }
   ],
   "source": [
    "from sklearn.model_selection import cross_val_score\n",
    "scores = cross_val_score(rf_model, X, y, cv=5)\n",
    "print(f\"CV Accuracy: {scores.mean():.3f} ± {scores.std():.3f}\")"
   ]
  },
  {
   "cell_type": "code",
   "execution_count": 12,
   "id": "2a04eb4e",
   "metadata": {},
   "outputs": [
    {
     "data": {
      "image/png": "[encoded data removed]",
      "text/plain": [
       "<Figure size 640x480 with 1 Axes>"
      ]
     },
     "metadata": {},
     "output_type": "display_data"
    }
   ],
   "source": [
    "import pandas as pd\n",
    "import matplotlib.pyplot as plt\n",
    "\n",
    "feat_importance = pd.Series(rf_model.feature_importances_, index=X.columns)\n",
    "feat_importance.nlargest(10).plot(kind='barh')\n",
    "plt.title(\"Top 10 Feature Importances\")\n",
    "plt.show()"
   ]
  },
  {
   "cell_type": "code",
   "execution_count": 13,
   "id": "7d7da3d8",
   "metadata": {},
   "outputs": [
    {
     "data": {
      "text/plain": [
       "IsWeekend_3        0.001777\n",
       "IsWeekend_2        0.002482\n",
       "IsWeekend          0.002675\n",
       "Year               0.008455\n",
       "Precipitation      0.008767\n",
       "Year_3             0.008802\n",
       "Year_2             0.009382\n",
       "WindSpeed_2        0.012947\n",
       "Precipitation_2    0.012994\n",
       "Humidity_diff      0.014511\n",
       "Humidity_2         0.015790\n",
       "Humidity           0.016414\n",
       "PM2.5_CV           0.018982\n",
       "WindSpeed          0.019470\n",
       "Humidity_3         0.020036\n",
       "Pressure           0.020977\n",
       "Pressure_2         0.021364\n",
       "WindSpeed_trend    0.023932\n",
       "PM10_CV            0.024854\n",
       "Month              0.025119\n",
       "Month_3            0.025561\n",
       "WindSpeed_3        0.027142\n",
       "PM10_std           0.032098\n",
       "Pressure_3         0.033561\n",
       "Month_2            0.034785\n",
       "PM2.5_trend        0.042558\n",
       "PM2.5_std          0.044694\n",
       "PM10_trend         0.047244\n",
       "Temperature        0.052334\n",
       "Temperature_3      0.053023\n",
       "Temperature_2      0.060930\n",
       "Precipitation_3    0.069612\n",
       "PM10_avg           0.079423\n",
       "PM2.5_avg          0.107304\n",
       "dtype: float64"
      ]
     },
     "execution_count": 13,
     "metadata": {},
     "output_type": "execute_result"
    }
   ],
   "source": [
    "import pandas as pd\n",
    "import matplotlib.pyplot as plt\n",
    "\n",
    "feat_importance = pd.Series(rf_model.feature_importances_, index=X.columns)\n",
    "feat_importance.sort_values(ascending=True, inplace=True)\n",
    "feat_importance"
   ]
  },
  {
   "cell_type": "code",
   "execution_count": 14,
   "id": "a562cc83",
   "metadata": {},
   "outputs": [],
   "source": [
    "probs = rf_model.predict_proba(X_test)[:, 1]  # get predicted probabilities for class 1\n",
    "threshold = 0.3  # lower than 0.5 to be more sensitive\n",
    "preds_adjusted = (probs >= threshold).astype(int)"
   ]
  },
  {
   "cell_type": "code",
   "execution_count": 15,
   "id": "47be5230",
   "metadata": {},
   "outputs": [
    {
     "name": "stdout",
     "output_type": "stream",
     "text": [
      "              precision    recall  f1-score   support\n",
      "\n",
      "           0       0.98      0.75      0.85        73\n",
      "           1       0.78      0.98      0.87        63\n",
      "\n",
      "    accuracy                           0.86       136\n",
      "   macro avg       0.88      0.87      0.86       136\n",
      "weighted avg       0.89      0.86      0.86       136\n",
      "\n",
      "Precision: 0.775\n",
      "Recall:    0.984\n",
      "F1-score:  0.867\n"
     ]
    }
   ],
   "source": [
    "from sklearn.metrics import classification_report, precision_score, recall_score, f1_score\n",
    "# Suppose you have your test labels and adjusted predictions:\n",
    "y_true = y_test\n",
    "y_pred = preds_adjusted  # from thresholding probabilities\n",
    "\n",
    "# Full classification report\n",
    "print(classification_report(y_true, y_pred))\n",
    "\n",
    "# Or calculate metrics individually\n",
    "precision = precision_score(y_true, y_pred)\n",
    "recall = recall_score(y_true, y_pred)\n",
    "f1 = f1_score(y_true, y_pred)\n",
    "\n",
    "print(f\"Precision: {precision:.3f}\")\n",
    "print(f\"Recall:    {recall:.3f}\")\n",
    "print(f\"F1-score:  {f1:.3f}\")"
   ]
  },
  {
   "cell_type": "code",
   "execution_count": 16,
   "id": "efd1b660",
   "metadata": {},
   "outputs": [
    {
     "data": {
      "text/plain": [
       "['rf_model.joblib']"
      ]
     },
     "execution_count": 16,
     "metadata": {},
     "output_type": "execute_result"
    }
   ],
   "source": [
    "joblib.dump(rf_model, 'rf_model.joblib')"
   ]
  }
 ],
 "metadata": {
  "kernelspec": {
   "display_name": "3.12.2",
   "language": "python",
   "name": "python3"
  },
  "language_info": {
   "codemirror_mode": {
    "name": "ipython",
    "version": 3
   },
   "file_extension": ".py",
   "mimetype": "text/x-python",
   "name": "python",
   "nbconvert_exporter": "python",
   "pygments_lexer": "ipython3",
   "version": "3.12.2"
  }
 },
 "nbformat": 4,
 "nbformat_minor": 5
}
